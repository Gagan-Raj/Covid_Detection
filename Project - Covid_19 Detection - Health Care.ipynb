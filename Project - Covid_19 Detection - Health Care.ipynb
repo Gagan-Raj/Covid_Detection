{
 "cells": [
  {
   "cell_type": "code",
   "execution_count": 1,
   "id": "830cae9a",
   "metadata": {},
   "outputs": [],
   "source": [
    "#import some basic libraries\n",
    "import pandas as pd\n",
    "import numpy as np\n",
    "  \n",
    "import warnings\n",
    "warnings.filterwarnings('ignore')\n",
    "\n",
    "import matplotlib.pyplot as plt\n",
    "\n",
    "import os\n",
    "import cv2"
   ]
  },
  {
   "cell_type": "markdown",
   "id": "837013fb",
   "metadata": {},
   "source": [
    "After having a look at the extracted files in the folder, we have 4 lables namely - Covid, Viral Pneumonia, Normal, Lung Opacity. But for detection of covid, we just need 2 lables - Covid & Normal. Other 2 we won't be needing. And we need only images folder, not masks."
   ]
  },
  {
   "cell_type": "code",
   "execution_count": 2,
   "id": "2c4fe1ec",
   "metadata": {},
   "outputs": [],
   "source": [
    "#defining a function to read all the images from required folders\n",
    "def read_images(root_dir, size):\n",
    "    x=[]\n",
    "    y=[]\n",
    "    folder_names = os.listdir(root_dir)\n",
    "    for folder_name in folder_names:\n",
    "        file_names = os.listdir(f'{root_dir}/{folder_name}')\n",
    "        \n",
    "        for file_name in file_names:\n",
    "            if 'jpg' or 'JPG' or 'JPEG' or 'jpeg' or 'png' or 'PNG' in filename:\n",
    "                img = cv2.imread(f'{root_dir}/{folder_name}/{file_name}')\n",
    "                if img is None:\n",
    "                    continue\n",
    "                img = cv2.resize(img, size, interpolation=cv2.INTER_NEAREST)\n",
    "                x.append(img)\n",
    "                y.append(folder_name)\n",
    "                \n",
    "    return (x,y)"
   ]
  },
  {
   "cell_type": "code",
   "execution_count": 3,
   "id": "79319461",
   "metadata": {},
   "outputs": [],
   "source": [
    "#loading all images with pre_defined function and loading foldernames as labels\n",
    "root_dir = 'Data/Covid_detect'\n",
    "size = (250,250)\n",
    "x, y = read_images(root_dir, size)"
   ]
  },
  {
   "cell_type": "code",
   "execution_count": 4,
   "id": "2c30b961",
   "metadata": {},
   "outputs": [
    {
     "data": {
      "text/plain": [
       "(13808, 250, 250, 3)"
      ]
     },
     "execution_count": 4,
     "metadata": {},
     "output_type": "execute_result"
    }
   ],
   "source": [
    "#converting x into numpy array\n",
    "\n",
    "x = np.array(x)\n",
    "\n",
    "x.shape"
   ]
  },
  {
   "cell_type": "markdown",
   "id": "d26eb9d8",
   "metadata": {},
   "source": [
    "### Label Encoding"
   ]
  },
  {
   "cell_type": "code",
   "execution_count": 5,
   "id": "012b6f8a",
   "metadata": {},
   "outputs": [],
   "source": [
    "#convert the y into numpy array by label encoding\n",
    "from sklearn.preprocessing import LabelEncoder\n",
    "\n",
    "le = LabelEncoder()\n",
    "\n",
    "y = le.fit_transform(y)"
   ]
  },
  {
   "cell_type": "code",
   "execution_count": 6,
   "id": "537d9bbb",
   "metadata": {},
   "outputs": [
    {
     "data": {
      "text/plain": [
       "(13808,)"
      ]
     },
     "execution_count": 6,
     "metadata": {},
     "output_type": "execute_result"
    }
   ],
   "source": [
    "y.shape"
   ]
  },
  {
   "cell_type": "code",
   "execution_count": 7,
   "id": "8875c022",
   "metadata": {},
   "outputs": [
    {
     "data": {
      "text/plain": [
       "array([0, 1])"
      ]
     },
     "execution_count": 7,
     "metadata": {},
     "output_type": "execute_result"
    }
   ],
   "source": [
    "#let us find the unique values and labels of y\n",
    "np.unique(y)"
   ]
  },
  {
   "cell_type": "code",
   "execution_count": 8,
   "id": "c9498d0e",
   "metadata": {},
   "outputs": [
    {
     "data": {
      "text/plain": [
       "array(['covid', 'normal'], dtype='<U6')"
      ]
     },
     "execution_count": 8,
     "metadata": {},
     "output_type": "execute_result"
    }
   ],
   "source": [
    "le.classes_"
   ]
  },
  {
   "cell_type": "markdown",
   "id": "7587a6ae",
   "metadata": {},
   "source": [
    "So we have Covid=0 & Normal=1 in our dataset."
   ]
  },
  {
   "cell_type": "markdown",
   "id": "659bebd7",
   "metadata": {},
   "source": [
    "### Data Visualisation"
   ]
  },
  {
   "cell_type": "code",
   "execution_count": 9,
   "id": "35643bde",
   "metadata": {},
   "outputs": [
    {
     "data": {
      "image/png": "[encoded data removed]",
      "text/plain": [
       "<Figure size 640x480 with 1 Axes>"
      ]
     },
     "metadata": {},
     "output_type": "display_data"
    }
   ],
   "source": [
    "import seaborn as sns\n",
    "\n",
    "sns.countplot(y)\n",
    "plt.show()"
   ]
  },
  {
   "cell_type": "markdown",
   "id": "7a215635",
   "metadata": {},
   "source": [
    "We have more than double for Normal(1) than Covid(0). This dataset is imbalanced."
   ]
  },
  {
   "cell_type": "markdown",
   "id": "d08f261f",
   "metadata": {},
   "source": [
    "- Let us do image detection with Imbalanced Dataset first and then compare its accuracy with Undersampling and oversampling Models. And then we can go with Transfer learning Models with balanced Dataset."
   ]
  },
  {
   "cell_type": "code",
   "execution_count": 10,
   "id": "c519b0af",
   "metadata": {},
   "outputs": [],
   "source": [
    "#let us make the copy of dataset (for just in case scenarios)\n",
    "x1 = x.copy()\n",
    "y1 = y.copy()"
   ]
  },
  {
   "cell_type": "markdown",
   "id": "ebbfc121",
   "metadata": {},
   "source": [
    "### Splitting the Data"
   ]
  },
  {
   "cell_type": "code",
   "execution_count": 11,
   "id": "9e53cf87",
   "metadata": {},
   "outputs": [],
   "source": [
    "#let us split the train data into test and train\n",
    "from sklearn.model_selection import train_test_split\n",
    "\n",
    "x_train,x_test,y_train,y_test = train_test_split(x,y,test_size = 0.25,random_state = 42)"
   ]
  },
  {
   "cell_type": "code",
   "execution_count": 12,
   "id": "1a1d4d10",
   "metadata": {},
   "outputs": [
    {
     "data": {
      "text/plain": [
       "((10356, 250, 250, 3), (10356,))"
      ]
     },
     "execution_count": 12,
     "metadata": {},
     "output_type": "execute_result"
    }
   ],
   "source": [
    "x_train.shape, y_train.shape"
   ]
  },
  {
   "cell_type": "code",
   "execution_count": 13,
   "id": "3f399c53",
   "metadata": {},
   "outputs": [
    {
     "data": {
      "text/plain": [
       "((3452, 250, 250, 3), (3452,))"
      ]
     },
     "execution_count": 13,
     "metadata": {},
     "output_type": "execute_result"
    }
   ],
   "source": [
    "x_test.shape, y_test.shape"
   ]
  },
  {
   "cell_type": "markdown",
   "id": "99c26448",
   "metadata": {},
   "source": [
    "\n",
    "### Building the Model"
   ]
  },
  {
   "cell_type": "code",
   "execution_count": 14,
   "id": "5ba98df0",
   "metadata": {},
   "outputs": [
    {
     "name": "stderr",
     "output_type": "stream",
     "text": [
      "2023-05-15 21:33:08.468411: I tensorflow/core/platform/cpu_feature_guard.cc:182] This TensorFlow binary is optimized to use available CPU instructions in performance-critical operations.\n",
      "To enable the following instructions: AVX2 FMA, in other operations, rebuild TensorFlow with the appropriate compiler flags.\n"
     ]
    }
   ],
   "source": [
    "import tensorflow as tf\n",
    "from tensorflow.keras import Sequential\n",
    "from tensorflow.keras.layers import Conv2D, MaxPooling2D, Dense, Flatten, Dropout\n",
    "from tensorflow.keras.callbacks import EarlyStopping"
   ]
  },
  {
   "cell_type": "code",
   "execution_count": 15,
   "id": "6ab4b33b",
   "metadata": {},
   "outputs": [],
   "source": [
    "model_im = Sequential()\n",
    "\n",
    "model_im.add(Conv2D(64, (3,3), activation='relu', input_shape=(250,250,3)))\n",
    "model_im.add(MaxPooling2D((2,2)))\n",
    "\n",
    "model_im.add(Conv2D(32, (3,3), activation='relu'))\n",
    "model_im.add(MaxPooling2D((2,2)))\n",
    "\n",
    "model_im.add(Flatten())\n",
    "model_im.add(Dense(500, activation='relu'))\n",
    "model_im.add(Dropout(0.2))\n",
    "model_im.add(Dense(250, activation='relu'))\n",
    "model_im.add(Dropout(0.2))\n",
    "model_im.add(Dense(100, activation='relu'))\n",
    "\n",
    "model_im.add(Dense(1, activation='sigmoid'))"
   ]
  },
  {
   "cell_type": "code",
   "execution_count": 16,
   "id": "f56902ad",
   "metadata": {},
   "outputs": [
    {
     "name": "stdout",
     "output_type": "stream",
     "text": [
      "Model: \"sequential\"\n",
      "_________________________________________________________________\n",
      " Layer (type)                Output Shape              Param #   \n",
      "=================================================================\n",
      " conv2d (Conv2D)             (None, 248, 248, 64)      1792      \n",
      "                                                                 \n",
      " max_pooling2d (MaxPooling2D  (None, 124, 124, 64)     0         \n",
      " )                                                               \n",
      "                                                                 \n",
      " conv2d_1 (Conv2D)           (None, 122, 122, 32)      18464     \n",
      "                                                                 \n",
      " max_pooling2d_1 (MaxPooling  (None, 61, 61, 32)       0         \n",
      " 2D)                                                             \n",
      "                                                                 \n",
      " flatten (Flatten)           (None, 119072)            0         \n",
      "                                                                 \n",
      " dense (Dense)               (None, 500)               59536500  \n",
      "                                                                 \n",
      " dropout (Dropout)           (None, 500)               0         \n",
      "                                                                 \n",
      " dense_1 (Dense)             (None, 250)               125250    \n",
      "                                                                 \n",
      " dropout_1 (Dropout)         (None, 250)               0         \n",
      "                                                                 \n",
      " dense_2 (Dense)             (None, 100)               25100     \n",
      "                                                                 \n",
      " dense_3 (Dense)             (None, 1)                 101       \n",
      "                                                                 \n",
      "=================================================================\n",
      "Total params: 59,707,207\n",
      "Trainable params: 59,707,207\n",
      "Non-trainable params: 0\n",
      "_________________________________________________________________\n"
     ]
    }
   ],
   "source": [
    "model_im.summary()"
   ]
  },
  {
   "cell_type": "markdown",
   "id": "eb5deda0",
   "metadata": {},
   "source": [
    "### Compile & Fit the Model"
   ]
  },
  {
   "cell_type": "code",
   "execution_count": 17,
   "id": "f8947bae",
   "metadata": {},
   "outputs": [
    {
     "name": "stdout",
     "output_type": "stream",
     "text": [
      "Epoch 1/10\n",
      "130/130 [==============================] - 1135s 9s/step - loss: 5.0939 - accuracy: 0.7814 - val_loss: 0.3412 - val_accuracy: 0.8263\n",
      "Epoch 2/10\n",
      "130/130 [==============================] - 1139s 9s/step - loss: 0.3068 - accuracy: 0.8617 - val_loss: 0.3227 - val_accuracy: 0.8422\n",
      "Epoch 3/10\n",
      "130/130 [==============================] - 1066s 8s/step - loss: 0.2315 - accuracy: 0.8952 - val_loss: 0.3421 - val_accuracy: 0.8576\n",
      "Epoch 4/10\n",
      "130/130 [==============================] - 1047s 8s/step - loss: 0.1820 - accuracy: 0.9259 - val_loss: 0.3934 - val_accuracy: 0.8605\n",
      "Epoch 5/10\n",
      "130/130 [==============================] - 1419s 11s/step - loss: 0.1378 - accuracy: 0.9446 - val_loss: 0.4396 - val_accuracy: 0.8653\n",
      "Epoch 6/10\n",
      "130/130 [==============================] - 1099s 8s/step - loss: 0.1338 - accuracy: 0.9436 - val_loss: 0.4986 - val_accuracy: 0.8818\n",
      "Epoch 7/10\n",
      "130/130 [==============================] - 1072s 8s/step - loss: 0.0960 - accuracy: 0.9634 - val_loss: 0.6504 - val_accuracy: 0.8827\n",
      "Epoch 8/10\n",
      "130/130 [==============================] - 1142s 9s/step - loss: 0.0741 - accuracy: 0.9707 - val_loss: 0.6163 - val_accuracy: 0.8779\n"
     ]
    }
   ],
   "source": [
    "model_im.compile(optimizer='adam', loss='binary_crossentropy', metrics=['accuracy'])\n",
    "\n",
    "es = EarlyStopping(monitor='val_accuracy', min_delta=0.005, patience=2, mode='auto')\n",
    "\n",
    "history_1 = model_im.fit(x_train, y_train, epochs=10, validation_split=0.20, batch_size=64, callbacks=[es])"
   ]
  },
  {
   "cell_type": "markdown",
   "id": "b1e5c79e",
   "metadata": {},
   "source": [
    "### Evaluate on Test Data"
   ]
  },
  {
   "cell_type": "code",
   "execution_count": 19,
   "id": "5a990ef1",
   "metadata": {},
   "outputs": [
    {
     "name": "stdout",
     "output_type": "stream",
     "text": [
      "108/108 - 110s - loss: 0.5822 - accuracy: 0.8705 - 110s/epoch - 1s/step\n",
      "Test loss with Imbalanced Data is  0.582217276096344\n",
      "Test Accuracy with Imbalanced Data is  0.8705098628997803\n"
     ]
    }
   ],
   "source": [
    "#Evaluating the model\n",
    "test_loss_im, test_acc_im = model_im.evaluate(x_test,  y_test, verbose=2)\n",
    "print('Test loss with Imbalanced Data is ',test_loss_im)\n",
    "print('Test Accuracy with Imbalanced Data is ',test_acc_im)"
   ]
  },
  {
   "cell_type": "code",
   "execution_count": 20,
   "id": "64cd4304",
   "metadata": {},
   "outputs": [
    {
     "data": {
      "text/plain": [
       "Text(0.5, 1.0, 'Train - Accuracy')"
      ]
     },
     "execution_count": 20,
     "metadata": {},
     "output_type": "execute_result"
    },
    {
     "data": {
      "image/png": "[encoded data removed]",
      "text/plain": [
       "<Figure size 1000x1000 with 2 Axes>"
      ]
     },
     "metadata": {},
     "output_type": "display_data"
    }
   ],
   "source": [
    "#Let us plot the Training Accuracy vs Loss to get a better understanding of the model training.\n",
    "\n",
    "plt.figure(figsize=(10, 10))\n",
    "\n",
    "plt.subplot(2, 2, 1)\n",
    "plt.plot(history_1.history['loss'], label='Loss')\n",
    "plt.plot(history_1.history['val_loss'], label='Validation Loss')\n",
    "plt.legend()\n",
    "plt.title('Training - Loss Function')\n",
    "\n",
    "plt.subplot(2, 2, 2)\n",
    "plt.plot(history_1.history['accuracy'], label='Accuracy')\n",
    "plt.plot(history_1.history['val_accuracy'], label='Validation Accuracy')\n",
    "plt.legend()\n",
    "plt.title('Train - Accuracy')"
   ]
  },
  {
   "cell_type": "markdown",
   "id": "421b08b6",
   "metadata": {},
   "source": [
    "### Under-Sampling"
   ]
  },
  {
   "cell_type": "markdown",
   "id": "cfc2e30f",
   "metadata": {},
   "source": [
    "Undersampling is a useful way to balance imbalanced datasets."
   ]
  },
  {
   "cell_type": "code",
   "execution_count": 21,
   "id": "92100e4e",
   "metadata": {},
   "outputs": [],
   "source": [
    "# under sampling\n",
    "\n",
    "from imblearn.under_sampling import NearMiss\n",
    "\n",
    "x_us = x.reshape(x.shape[0], -1)  # flatten each image to a 1D array\n",
    "\n",
    "near_miss = NearMiss()\n",
    "\n",
    "x_us, y_us = near_miss.fit_resample(x_us, y)"
   ]
  },
  {
   "cell_type": "code",
   "execution_count": 22,
   "id": "657e95da",
   "metadata": {},
   "outputs": [
    {
     "data": {
      "text/plain": [
       "((7232, 187500), (13808, 250, 250, 3))"
      ]
     },
     "execution_count": 22,
     "metadata": {},
     "output_type": "execute_result"
    }
   ],
   "source": [
    "x_us.shape , x.shape"
   ]
  },
  {
   "cell_type": "code",
   "execution_count": 23,
   "id": "6a2cbcb4",
   "metadata": {},
   "outputs": [
    {
     "name": "stdout",
     "output_type": "stream",
     "text": [
      "New shape of x_us: (7232, 250, 250, 3)\n"
     ]
    }
   ],
   "source": [
    "#deflatten each image back to its original form\n",
    "\n",
    "# Assume original shape of each image is (height, width, channels)\n",
    "height, width, channels = 250, 250, 3\n",
    "\n",
    "# Reshape flattened data back to original shape\n",
    "x_us = x_us.reshape(-1, height, width, channels)\n",
    "\n",
    "# Print the new shape of x_us\n",
    "print(\"New shape of x_us:\", x_us.shape)\n"
   ]
  },
  {
   "cell_type": "code",
   "execution_count": 24,
   "id": "39b6172a",
   "metadata": {},
   "outputs": [
    {
     "data": {
      "text/plain": [
       "(7232,)"
      ]
     },
     "execution_count": 24,
     "metadata": {},
     "output_type": "execute_result"
    }
   ],
   "source": [
    "y_us.shape"
   ]
  },
  {
   "cell_type": "code",
   "execution_count": 25,
   "id": "4bd46e4b",
   "metadata": {},
   "outputs": [
    {
     "name": "stdout",
     "output_type": "stream",
     "text": [
      "Unique values: [0 1]\n",
      "Counts: [3616 3616]\n"
     ]
    }
   ],
   "source": [
    "unique_values, counts = np.unique(y_us, return_counts=True)\n",
    "print(\"Unique values:\", unique_values)\n",
    "print(\"Counts:\", counts)"
   ]
  },
  {
   "cell_type": "markdown",
   "id": "0120be4c",
   "metadata": {},
   "source": [
    "Now the label count is same. And both x and y are of same shape too"
   ]
  },
  {
   "cell_type": "markdown",
   "id": "2b7752ee",
   "metadata": {},
   "source": [
    "### Splitting the Data"
   ]
  },
  {
   "cell_type": "code",
   "execution_count": 26,
   "id": "2da553e8",
   "metadata": {},
   "outputs": [],
   "source": [
    "#let us split the train data into test and train\n",
    "from sklearn.model_selection import train_test_split\n",
    "\n",
    "x_train1,x_test1,y_train1,y_test1 = train_test_split(x_us,y_us,test_size = 0.25,random_state = 42)"
   ]
  },
  {
   "cell_type": "code",
   "execution_count": 27,
   "id": "2d591a9d",
   "metadata": {},
   "outputs": [
    {
     "data": {
      "text/plain": [
       "((5424, 250, 250, 3), (1808, 250, 250, 3))"
      ]
     },
     "execution_count": 27,
     "metadata": {},
     "output_type": "execute_result"
    }
   ],
   "source": [
    "x_train1.shape, x_test1.shape"
   ]
  },
  {
   "cell_type": "code",
   "execution_count": 28,
   "id": "a13d486b",
   "metadata": {},
   "outputs": [
    {
     "data": {
      "text/plain": [
       "((5424,), (1808,))"
      ]
     },
     "execution_count": 28,
     "metadata": {},
     "output_type": "execute_result"
    }
   ],
   "source": [
    "y_train1.shape, y_test1.shape "
   ]
  },
  {
   "cell_type": "markdown",
   "id": "1b980ca6",
   "metadata": {},
   "source": [
    "### Defining the Model"
   ]
  },
  {
   "cell_type": "code",
   "execution_count": 29,
   "id": "a2d2a3d9",
   "metadata": {},
   "outputs": [],
   "source": [
    "model_us = Sequential()\n",
    "\n",
    "model_us.add(Conv2D(64, (3,3), activation='relu', input_shape=(250,250,3)))\n",
    "model_us.add(MaxPooling2D((2,2)))\n",
    "\n",
    "model_us.add(Conv2D(32, (3,3), activation='relu'))\n",
    "model_us.add(MaxPooling2D((2,2)))\n",
    "\n",
    "model_us.add(Flatten())\n",
    "model_us.add(Dense(250, activation='relu'))\n",
    "model_us.add(Dropout(0.2))\n",
    "model_us.add(Dense(100, activation='relu'))\n",
    "\n",
    "model_us.add(Dense(1, activation='sigmoid'))"
   ]
  },
  {
   "cell_type": "code",
   "execution_count": 30,
   "id": "7f03944f",
   "metadata": {},
   "outputs": [
    {
     "name": "stdout",
     "output_type": "stream",
     "text": [
      "Model: \"sequential_1\"\n",
      "_________________________________________________________________\n",
      " Layer (type)                Output Shape              Param #   \n",
      "=================================================================\n",
      " conv2d_2 (Conv2D)           (None, 248, 248, 64)      1792      \n",
      "                                                                 \n",
      " max_pooling2d_2 (MaxPooling  (None, 124, 124, 64)     0         \n",
      " 2D)                                                             \n",
      "                                                                 \n",
      " conv2d_3 (Conv2D)           (None, 122, 122, 32)      18464     \n",
      "                                                                 \n",
      " max_pooling2d_3 (MaxPooling  (None, 61, 61, 32)       0         \n",
      " 2D)                                                             \n",
      "                                                                 \n",
      " flatten_1 (Flatten)         (None, 119072)            0         \n",
      "                                                                 \n",
      " dense_4 (Dense)             (None, 250)               29768250  \n",
      "                                                                 \n",
      " dropout_2 (Dropout)         (None, 250)               0         \n",
      "                                                                 \n",
      " dense_5 (Dense)             (None, 100)               25100     \n",
      "                                                                 \n",
      " dense_6 (Dense)             (None, 1)                 101       \n",
      "                                                                 \n",
      "=================================================================\n",
      "Total params: 29,813,707\n",
      "Trainable params: 29,813,707\n",
      "Non-trainable params: 0\n",
      "_________________________________________________________________\n"
     ]
    }
   ],
   "source": [
    "model_us.summary()"
   ]
  },
  {
   "cell_type": "markdown",
   "id": "bec6b8d8",
   "metadata": {},
   "source": [
    "### Compile & fit the model"
   ]
  },
  {
   "cell_type": "code",
   "execution_count": 31,
   "id": "8695dfb4",
   "metadata": {},
   "outputs": [
    {
     "name": "stdout",
     "output_type": "stream",
     "text": [
      "Epoch 1/10\n",
      "68/68 [==============================] - 542s 8s/step - loss: 33.3683 - accuracy: 0.6979 - val_loss: 0.4353 - val_accuracy: 0.8083\n",
      "Epoch 2/10\n",
      "68/68 [==============================] - 576s 8s/step - loss: 0.3861 - accuracy: 0.8341 - val_loss: 0.3473 - val_accuracy: 0.8369\n",
      "Epoch 3/10\n",
      "68/68 [==============================] - 553s 8s/step - loss: 0.2487 - accuracy: 0.8997 - val_loss: 0.4205 - val_accuracy: 0.8470\n",
      "Epoch 4/10\n",
      "68/68 [==============================] - 524s 8s/step - loss: 0.1901 - accuracy: 0.9263 - val_loss: 0.4918 - val_accuracy: 0.8516\n",
      "Epoch 5/10\n",
      "68/68 [==============================] - 677s 10s/step - loss: 0.7958 - accuracy: 0.9048 - val_loss: 0.6004 - val_accuracy: 0.7705\n"
     ]
    }
   ],
   "source": [
    "model_us.compile(optimizer='adam', loss='binary_crossentropy', metrics=['accuracy'])\n",
    "\n",
    "es = EarlyStopping(monitor='val_accuracy', min_delta=0.005, patience=2, mode='auto')\n",
    "\n",
    "history_2 = model_us.fit(x_train1, y_train1, epochs=10, validation_split=0.20, batch_size=64, callbacks=[es])"
   ]
  },
  {
   "cell_type": "markdown",
   "id": "69cd823e",
   "metadata": {},
   "source": [
    "### Evaluate on Test Data"
   ]
  },
  {
   "cell_type": "code",
   "execution_count": 56,
   "id": "c9ae96d9",
   "metadata": {},
   "outputs": [
    {
     "name": "stdout",
     "output_type": "stream",
     "text": [
      "57/57 - 43s - loss: 0.6718 - accuracy: 0.7882 - 43s/epoch - 758ms/step\n",
      "Test loss with Under Sampling Data is  0.6717942953109741\n",
      "Test Accuracy with Under Sampling Data is  0.7881637215614319\n"
     ]
    }
   ],
   "source": [
    "#Evaluating the model\n",
    "test_loss_im, test_acc_im = model_us.evaluate(x_test1,  y_test1, verbose=2)\n",
    "print('Test loss with Under Sampling Data is ',test_loss_im)\n",
    "print('Test Accuracy with Under Sampling Data is ',test_acc_im)"
   ]
  },
  {
   "cell_type": "code",
   "execution_count": 33,
   "id": "6c6b7033",
   "metadata": {},
   "outputs": [
    {
     "data": {
      "text/plain": [
       "Text(0.5, 1.0, 'Train - Accuracy')"
      ]
     },
     "execution_count": 33,
     "metadata": {},
     "output_type": "execute_result"
    },
    {
     "data": {
      "image/png": "[encoded data removed]",
      "text/plain": [
       "<Figure size 1000x1000 with 2 Axes>"
      ]
     },
     "metadata": {},
     "output_type": "display_data"
    }
   ],
   "source": [
    "plt.figure(figsize=(10, 10))\n",
    "\n",
    "plt.subplot(2, 2, 1)\n",
    "plt.plot(history_2.history['loss'], label='Loss')\n",
    "plt.plot(history_2.history['val_loss'], label='Validation Loss')\n",
    "plt.legend()\n",
    "plt.title('Training - Loss Function')\n",
    "\n",
    "plt.subplot(2, 2, 2)\n",
    "plt.plot(history_2.history['accuracy'], label='Accuracy')\n",
    "plt.plot(history_2.history['val_accuracy'], label='Validation Accuracy')\n",
    "plt.legend()\n",
    "plt.title('Train - Accuracy')"
   ]
  },
  {
   "cell_type": "markdown",
   "id": "1eed5bd2",
   "metadata": {},
   "source": [
    "### Over Sampling the Data"
   ]
  },
  {
   "cell_type": "code",
   "execution_count": 34,
   "id": "adde3607",
   "metadata": {},
   "outputs": [],
   "source": [
    "# over sampling\n",
    "\n",
    "from imblearn.over_sampling import SMOTE\n",
    "\n",
    "x_os = x.reshape(x.shape[0], -1)  # flatten each image to a 1D array\n",
    "\n",
    "smote = SMOTE()\n",
    "\n",
    "x_os, y_os = smote.fit_resample(x_os, y)"
   ]
  },
  {
   "cell_type": "code",
   "execution_count": 35,
   "id": "f58f7b55",
   "metadata": {},
   "outputs": [
    {
     "data": {
      "text/plain": [
       "((20384, 187500), (13808, 250, 250, 3))"
      ]
     },
     "execution_count": 35,
     "metadata": {},
     "output_type": "execute_result"
    }
   ],
   "source": [
    "x_os.shape, x.shape"
   ]
  },
  {
   "cell_type": "code",
   "execution_count": 36,
   "id": "c9fb72cf",
   "metadata": {},
   "outputs": [
    {
     "name": "stdout",
     "output_type": "stream",
     "text": [
      "New shape of x_os: (20384, 250, 250, 3)\n"
     ]
    }
   ],
   "source": [
    "#deflatten each image back to its original form\n",
    "\n",
    "# Assume original shape of each image is (height, width, channels)\n",
    "height, width, channels = 250, 250, 3\n",
    "\n",
    "# Reshape flattened data back to original shape\n",
    "x_os = x_os.reshape(-1, height, width, channels)\n",
    "\n",
    "# Print the new shape of x_us\n",
    "print(\"New shape of x_os:\", x_os.shape)"
   ]
  },
  {
   "cell_type": "code",
   "execution_count": 37,
   "id": "a0988ba5",
   "metadata": {},
   "outputs": [
    {
     "data": {
      "text/plain": [
       "(20384,)"
      ]
     },
     "execution_count": 37,
     "metadata": {},
     "output_type": "execute_result"
    }
   ],
   "source": [
    "y_os.shape"
   ]
  },
  {
   "cell_type": "code",
   "execution_count": 38,
   "id": "1c294286",
   "metadata": {},
   "outputs": [
    {
     "name": "stdout",
     "output_type": "stream",
     "text": [
      "Unique values: [0 1]\n",
      "Counts: [10192 10192]\n"
     ]
    }
   ],
   "source": [
    "unique_values, counts = np.unique(y_os, return_counts=True)\n",
    "print(\"Unique values:\", unique_values)\n",
    "print(\"Counts:\", counts)"
   ]
  },
  {
   "cell_type": "markdown",
   "id": "08ad4a71",
   "metadata": {},
   "source": [
    "### Splitting the Data"
   ]
  },
  {
   "cell_type": "code",
   "execution_count": 39,
   "id": "194615c7",
   "metadata": {},
   "outputs": [],
   "source": [
    "#let us split the train data into test and train\n",
    "from sklearn.model_selection import train_test_split\n",
    "\n",
    "x_train2,x_test2,y_train2,y_test2 = train_test_split(x_os,y_os,test_size = 0.25,random_state = 42)"
   ]
  },
  {
   "cell_type": "code",
   "execution_count": 40,
   "id": "f9274c30",
   "metadata": {},
   "outputs": [
    {
     "data": {
      "text/plain": [
       "((15288, 250, 250, 3), (15288,))"
      ]
     },
     "execution_count": 40,
     "metadata": {},
     "output_type": "execute_result"
    }
   ],
   "source": [
    "x_train2.shape, y_train2.shape"
   ]
  },
  {
   "cell_type": "code",
   "execution_count": 41,
   "id": "e7854bb7",
   "metadata": {},
   "outputs": [
    {
     "data": {
      "text/plain": [
       "((5096, 250, 250, 3), (5096,))"
      ]
     },
     "execution_count": 41,
     "metadata": {},
     "output_type": "execute_result"
    }
   ],
   "source": [
    "x_test2.shape, y_test2.shape"
   ]
  },
  {
   "cell_type": "markdown",
   "id": "a3c6776e",
   "metadata": {},
   "source": [
    "###### Defining the Model"
   ]
  },
  {
   "cell_type": "code",
   "execution_count": 42,
   "id": "c8ccb61f",
   "metadata": {},
   "outputs": [],
   "source": [
    "model_os = Sequential()\n",
    "\n",
    "model_os.add(Conv2D(64, (3,3), activation='relu', input_shape=(250,250,3)))\n",
    "model_os.add(MaxPooling2D((2,2)))\n",
    "\n",
    "model_os.add(Conv2D(32, (3,3), activation='relu'))\n",
    "model_os.add(MaxPooling2D((2,2)))\n",
    "\n",
    "model_os.add(Flatten())\n",
    "model_os.add(Dense(250, activation='relu'))\n",
    "model_os.add(Dropout(0.2))\n",
    "model_os.add(Dense(100, activation='relu'))\n",
    "\n",
    "model_os.add(Dense(1, activation='sigmoid'))"
   ]
  },
  {
   "cell_type": "code",
   "execution_count": 43,
   "id": "fc7c6eb5",
   "metadata": {},
   "outputs": [
    {
     "name": "stdout",
     "output_type": "stream",
     "text": [
      "Model: \"sequential_2\"\n",
      "_________________________________________________________________\n",
      " Layer (type)                Output Shape              Param #   \n",
      "=================================================================\n",
      " conv2d_4 (Conv2D)           (None, 248, 248, 64)      1792      \n",
      "                                                                 \n",
      " max_pooling2d_4 (MaxPooling  (None, 124, 124, 64)     0         \n",
      " 2D)                                                             \n",
      "                                                                 \n",
      " conv2d_5 (Conv2D)           (None, 122, 122, 32)      18464     \n",
      "                                                                 \n",
      " max_pooling2d_5 (MaxPooling  (None, 61, 61, 32)       0         \n",
      " 2D)                                                             \n",
      "                                                                 \n",
      " flatten_2 (Flatten)         (None, 119072)            0         \n",
      "                                                                 \n",
      " dense_7 (Dense)             (None, 250)               29768250  \n",
      "                                                                 \n",
      " dropout_3 (Dropout)         (None, 250)               0         \n",
      "                                                                 \n",
      " dense_8 (Dense)             (None, 100)               25100     \n",
      "                                                                 \n",
      " dense_9 (Dense)             (None, 1)                 101       \n",
      "                                                                 \n",
      "=================================================================\n",
      "Total params: 29,813,707\n",
      "Trainable params: 29,813,707\n",
      "Non-trainable params: 0\n",
      "_________________________________________________________________\n"
     ]
    }
   ],
   "source": [
    "model_os.summary()"
   ]
  },
  {
   "cell_type": "markdown",
   "id": "73015b8f",
   "metadata": {},
   "source": [
    "### Compile & Fit the Model"
   ]
  },
  {
   "cell_type": "code",
   "execution_count": 44,
   "id": "4f394007",
   "metadata": {},
   "outputs": [
    {
     "name": "stderr",
     "output_type": "stream",
     "text": [
      "2023-05-16 13:29:24.248982: I tensorflow/core/common_runtime/executor.cc:1197] [/device:CPU:0] (DEBUG INFO) Executor start aborting (this does not indicate an error and you can ignore this message): INVALID_ARGUMENT: You must feed a value for placeholder tensor 'Placeholder/_0' with dtype int32\n",
      "\t [[{{node Placeholder/_0}}]]\n"
     ]
    },
    {
     "name": "stdout",
     "output_type": "stream",
     "text": [
      "Epoch 1/5\n",
      "119/119 [==============================] - 3328s 28s/step - loss: 24.4095 - accuracy: 0.8279 - val_loss: 0.2718 - val_accuracy: 0.8858\n",
      "Epoch 2/5\n",
      "119/119 [==============================] - 3086s 26s/step - loss: 0.2087 - accuracy: 0.9108 - val_loss: 0.2595 - val_accuracy: 0.8991\n",
      "Epoch 3/5\n",
      "119/119 [==============================] - 3249s 27s/step - loss: 0.1519 - accuracy: 0.9343 - val_loss: 0.2758 - val_accuracy: 0.8878\n"
     ]
    }
   ],
   "source": [
    "BATCH_SIZE = 128\n",
    "\n",
    "# Compile the model\n",
    "model_os.compile(optimizer='adam', loss='binary_crossentropy', metrics=['accuracy'])\n",
    "\n",
    "# Define early stopping\n",
    "es = EarlyStopping(monitor='val_accuracy', min_delta=0.0005, patience=1, mode='auto')\n",
    "\n",
    "# Generate batches using a generator function for the training set\n",
    "def data_generator(x, y, batch_size):\n",
    "    num_samples = len(x)\n",
    "    indices = np.arange(num_samples)\n",
    "    np.random.shuffle(indices)\n",
    "    num_batches = num_samples // batch_size\n",
    "\n",
    "    while True:\n",
    "        for batch_index in range(num_batches):\n",
    "            batch_indices = indices[batch_index * batch_size : (batch_index + 1) * batch_size]\n",
    "            batch_x = x[batch_indices]\n",
    "            batch_y = y[batch_indices]\n",
    "            yield batch_x, batch_y\n",
    "\n",
    "# Create the generator object for the training set\n",
    "train_generator = data_generator(x_train2, y_train2, BATCH_SIZE)\n",
    "\n",
    "# Fit the model using the training set generator\n",
    "history_3= model_os.fit(train_generator, steps_per_epoch=len(x_train2) // BATCH_SIZE, epochs=5, \n",
    "                        callbacks=[es], validation_data=(x_test2, y_test2))"
   ]
  },
  {
   "cell_type": "markdown",
   "id": "da97c656",
   "metadata": {},
   "source": [
    "### Evaluating Data"
   ]
  },
  {
   "cell_type": "code",
   "execution_count": 55,
   "id": "a06a0b51",
   "metadata": {},
   "outputs": [
    {
     "name": "stdout",
     "output_type": "stream",
     "text": [
      "160/160 - 138s - loss: 0.2758 - accuracy: 0.8878 - 138s/epoch - 865ms/step\n",
      "Test loss with Over Sampling Data is  0.275841623544693\n",
      "Test Accuracy with Over Sampling Data is  0.8877550959587097\n"
     ]
    }
   ],
   "source": [
    "#Evaluating the model\n",
    "test_loss_im, test_acc_im = model_os.evaluate(x_test2,  y_test2, verbose=2)\n",
    "print('Test loss with Over Sampling Data is ',test_loss_im)\n",
    "print('Test Accuracy with Over Sampling Data is ',test_acc_im)"
   ]
  },
  {
   "cell_type": "code",
   "execution_count": 47,
   "id": "10ccf503",
   "metadata": {},
   "outputs": [
    {
     "data": {
      "text/plain": [
       "Text(0.5, 1.0, 'Train - Accuracy')"
      ]
     },
     "execution_count": 47,
     "metadata": {},
     "output_type": "execute_result"
    },
    {
     "data": {
      "image/png": "[encoded data removed]",
      "text/plain": [
       "<Figure size 1000x1000 with 2 Axes>"
      ]
     },
     "metadata": {},
     "output_type": "display_data"
    }
   ],
   "source": [
    "plt.figure(figsize=(10, 10))\n",
    "\n",
    "plt.subplot(2, 2, 1)\n",
    "plt.plot(history_3.history['loss'], label='Loss')\n",
    "plt.plot(history_3.history['val_loss'], label='Validation Loss')\n",
    "plt.legend()\n",
    "plt.title('Training - Loss Function')\n",
    "\n",
    "plt.subplot(2, 2, 2)\n",
    "plt.plot(history_3.history['accuracy'], label='Accuracy')\n",
    "plt.plot(history_3.history['val_accuracy'], label='Validation Accuracy')\n",
    "plt.legend()\n",
    "plt.title('Train - Accuracy')"
   ]
  },
  {
   "cell_type": "markdown",
   "id": "9e49dac4",
   "metadata": {},
   "source": [
    "### Transfer Learning the Model (VGG16)"
   ]
  },
  {
   "cell_type": "code",
   "execution_count": 50,
   "id": "b2e1a905",
   "metadata": {},
   "outputs": [],
   "source": [
    "from tensorflow.keras.applications.vgg16 import VGG16"
   ]
  },
  {
   "cell_type": "code",
   "execution_count": 51,
   "id": "03daf21a",
   "metadata": {},
   "outputs": [
    {
     "name": "stdout",
     "output_type": "stream",
     "text": [
      "Downloading data from https://storage.googleapis.com/tensorflow/keras-applications/vgg16/vgg16_weights_tf_dim_ordering_tf_kernels_notop.h5\n",
      "58889256/58889256 [==============================] - 68s 1us/step\n"
     ]
    }
   ],
   "source": [
    "base_model = VGG16(weights='imagenet', include_top=False, input_shape=(250, 250, 3))"
   ]
  },
  {
   "cell_type": "code",
   "execution_count": 52,
   "id": "e17e2ae6",
   "metadata": {},
   "outputs": [
    {
     "name": "stdout",
     "output_type": "stream",
     "text": [
      "Model: \"vgg16\"\n",
      "_________________________________________________________________\n",
      " Layer (type)                Output Shape              Param #   \n",
      "=================================================================\n",
      " input_1 (InputLayer)        [(None, 250, 250, 3)]     0         \n",
      "                                                                 \n",
      " block1_conv1 (Conv2D)       (None, 250, 250, 64)      1792      \n",
      "                                                                 \n",
      " block1_conv2 (Conv2D)       (None, 250, 250, 64)      36928     \n",
      "                                                                 \n",
      " block1_pool (MaxPooling2D)  (None, 125, 125, 64)      0         \n",
      "                                                                 \n",
      " block2_conv1 (Conv2D)       (None, 125, 125, 128)     73856     \n",
      "                                                                 \n",
      " block2_conv2 (Conv2D)       (None, 125, 125, 128)     147584    \n",
      "                                                                 \n",
      " block2_pool (MaxPooling2D)  (None, 62, 62, 128)       0         \n",
      "                                                                 \n",
      " block3_conv1 (Conv2D)       (None, 62, 62, 256)       295168    \n",
      "                                                                 \n",
      " block3_conv2 (Conv2D)       (None, 62, 62, 256)       590080    \n",
      "                                                                 \n",
      " block3_conv3 (Conv2D)       (None, 62, 62, 256)       590080    \n",
      "                                                                 \n",
      " block3_pool (MaxPooling2D)  (None, 31, 31, 256)       0         \n",
      "                                                                 \n",
      " block4_conv1 (Conv2D)       (None, 31, 31, 512)       1180160   \n",
      "                                                                 \n",
      " block4_conv2 (Conv2D)       (None, 31, 31, 512)       2359808   \n",
      "                                                                 \n",
      " block4_conv3 (Conv2D)       (None, 31, 31, 512)       2359808   \n",
      "                                                                 \n",
      " block4_pool (MaxPooling2D)  (None, 15, 15, 512)       0         \n",
      "                                                                 \n",
      " block5_conv1 (Conv2D)       (None, 15, 15, 512)       2359808   \n",
      "                                                                 \n",
      " block5_conv2 (Conv2D)       (None, 15, 15, 512)       2359808   \n",
      "                                                                 \n",
      " block5_conv3 (Conv2D)       (None, 15, 15, 512)       2359808   \n",
      "                                                                 \n",
      " block5_pool (MaxPooling2D)  (None, 7, 7, 512)         0         \n",
      "                                                                 \n",
      "=================================================================\n",
      "Total params: 14,714,688\n",
      "Trainable params: 14,714,688\n",
      "Non-trainable params: 0\n",
      "_________________________________________________________________\n"
     ]
    }
   ],
   "source": [
    "base_model.summary()"
   ]
  },
  {
   "cell_type": "code",
   "execution_count": 53,
   "id": "6d23c8ff",
   "metadata": {},
   "outputs": [],
   "source": [
    "base_model.trainable=False\n",
    "\n",
    "model_v16 = Sequential()\n",
    "model_v16.add(base_model)\n",
    "model_v16.add(Flatten())\n",
    "model_v16.add(Dense(128, activation='relu'))\n",
    "model_v16.add(Dropout(0.5))\n",
    "model_v16.add(Dense(1, activation='sigmoid'))"
   ]
  },
  {
   "cell_type": "code",
   "execution_count": 54,
   "id": "15a90441",
   "metadata": {},
   "outputs": [
    {
     "name": "stdout",
     "output_type": "stream",
     "text": [
      "Model: \"sequential_3\"\n",
      "_________________________________________________________________\n",
      " Layer (type)                Output Shape              Param #   \n",
      "=================================================================\n",
      " vgg16 (Functional)          (None, 7, 7, 512)         14714688  \n",
      "                                                                 \n",
      " flatten_3 (Flatten)         (None, 25088)             0         \n",
      "                                                                 \n",
      " dense_10 (Dense)            (None, 128)               3211392   \n",
      "                                                                 \n",
      " dropout_4 (Dropout)         (None, 128)               0         \n",
      "                                                                 \n",
      " dense_11 (Dense)            (None, 1)                 129       \n",
      "                                                                 \n",
      "=================================================================\n",
      "Total params: 17,926,209\n",
      "Trainable params: 3,211,521\n",
      "Non-trainable params: 14,714,688\n",
      "_________________________________________________________________\n"
     ]
    }
   ],
   "source": [
    "model_v16.summary()"
   ]
  },
  {
   "cell_type": "markdown",
   "id": "f9ec8d99",
   "metadata": {},
   "source": [
    "### Compile and fit the Model"
   ]
  },
  {
   "cell_type": "code",
   "execution_count": 58,
   "id": "0d1e5d96",
   "metadata": {
    "scrolled": false
   },
   "outputs": [
    {
     "name": "stdout",
     "output_type": "stream",
     "text": [
      "Epoch 1/10\n",
      "64/64 [==============================] - 3846s 61s/step - loss: 2.8780 - accuracy: 0.7109 - val_loss: 0.3242 - val_accuracy: 0.8783\n",
      "Epoch 2/10\n",
      "64/64 [==============================] - 3331s 52s/step - loss: 0.3430 - accuracy: 0.8380 - val_loss: 0.2024 - val_accuracy: 0.9299\n",
      "Epoch 3/10\n",
      "64/64 [==============================] - 3316s 52s/step - loss: 0.2379 - accuracy: 0.8862 - val_loss: 0.1690 - val_accuracy: 0.9410\n",
      "Epoch 4/10\n",
      "64/64 [==============================] - 2530s 40s/step - loss: 0.1868 - accuracy: 0.9051 - val_loss: 0.1592 - val_accuracy: 0.9469\n",
      "Epoch 5/10\n",
      "64/64 [==============================] - 2499s 39s/step - loss: 0.1541 - accuracy: 0.9275 - val_loss: 0.1481 - val_accuracy: 0.9491\n",
      "Epoch 6/10\n",
      "64/64 [==============================] - 3381s 53s/step - loss: 0.1336 - accuracy: 0.9469 - val_loss: 0.1409 - val_accuracy: 0.9543\n",
      "Epoch 7/10\n",
      "64/64 [==============================] - 2796s 44s/step - loss: 0.1231 - accuracy: 0.9417 - val_loss: 0.1338 - val_accuracy: 0.9550\n",
      "Epoch 8/10\n",
      "64/64 [==============================] - 2977s 47s/step - loss: 0.1094 - accuracy: 0.9521 - val_loss: 0.1153 - val_accuracy: 0.9587\n"
     ]
    },
    {
     "data": {
      "text/plain": [
       "<keras.callbacks.History at 0x7f7a53d5a550>"
      ]
     },
     "execution_count": 58,
     "metadata": {},
     "output_type": "execute_result"
    }
   ],
   "source": [
    "model_v16.compile(optimizer='adam', loss='binary_crossentropy', metrics=['accuracy'])\n",
    "\n",
    "es = EarlyStopping(monitor='val_accuracy', min_delta=0.005, patience=2, mode='auto')\n",
    "\n",
    "model_v16.fit(x_train1, y_train1, epochs=10, validation_split=0.25, batch_size=64, callbacks=[es])"
   ]
  },
  {
   "cell_type": "markdown",
   "id": "baa88e2a",
   "metadata": {},
   "source": [
    "- So we got best accuracy with VGG16 Transfer Learning Model - 95.87% with Over Sampling with 88.77% as second best."
   ]
  }
 ],
 "metadata": {
  "kernelspec": {
   "display_name": "Python 3 (ipykernel)",
   "language": "python",
   "name": "python3"
  },
  "language_info": {
   "codemirror_mode": {
    "name": "ipython",
    "version": 3
   },
   "file_extension": ".py",
   "mimetype": "text/x-python",
   "name": "python",
   "nbconvert_exporter": "python",
   "pygments_lexer": "ipython3",
   "version": "3.9.13"
  }
 },
 "nbformat": 4,
 "nbformat_minor": 5
}
